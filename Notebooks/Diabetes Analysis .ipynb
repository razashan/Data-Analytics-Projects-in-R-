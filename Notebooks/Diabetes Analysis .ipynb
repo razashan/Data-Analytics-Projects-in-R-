{
 "cells": [
  {
   "cell_type": "markdown",
   "metadata": {},
   "source": [
    "# Diabetes Dataset Analysis "
   ]
  },
  {
   "cell_type": "markdown",
   "metadata": {},
   "source": [
    "The dataset is originally from the National Institute of Diabetes and Digestive and Kidney Diseases."
   ]
  },
  {
   "cell_type": "code",
   "execution_count": 1,
   "metadata": {},
   "outputs": [
    {
     "name": "stderr",
     "output_type": "stream",
     "text": [
      "Registered S3 methods overwritten by 'ggplot2':\n",
      "  method         from \n",
      "  [.quosures     rlang\n",
      "  c.quosures     rlang\n",
      "  print.quosures rlang\n",
      "\n",
      "Attaching package: 'dplyr'\n",
      "\n",
      "The following objects are masked from 'package:stats':\n",
      "\n",
      "    filter, lag\n",
      "\n",
      "The following objects are masked from 'package:base':\n",
      "\n",
      "    intersect, setdiff, setequal, union\n",
      "\n",
      "Warning message:\n",
      "\"package 'gridExtra' was built under R version 3.6.3\"\n",
      "Attaching package: 'gridExtra'\n",
      "\n",
      "The following object is masked from 'package:dplyr':\n",
      "\n",
      "    combine\n",
      "\n",
      "corrplot 0.84 loaded\n"
     ]
    }
   ],
   "source": [
    "library(ggplot2)\n",
    "library(dplyr)\n",
    "library(gridExtra)\n",
    "library(corrplot)"
   ]
  },
  {
   "cell_type": "markdown",
   "metadata": {},
   "source": [
    "**ggplot** is used for visualizations <br>\n",
    "**dplyr** is used for data manipulation tasks<br>\n",
    "**gridextra** is used for \"Grid\" Graphics Provides a number of user-level functions to work with \"grid\" graphics<br>\n",
    "**corrplot** is used for plotting correlation\n"
   ]
  },
  {
   "cell_type": "code",
   "execution_count": 2,
   "metadata": {},
   "outputs": [],
   "source": [
    "df <- read.csv('diabetes_zero.csv')"
   ]
  },
  {
   "cell_type": "code",
   "execution_count": 3,
   "metadata": {},
   "outputs": [
    {
     "data": {
      "text/html": [
       "<table>\n",
       "<thead><tr><th scope=col>Pregnancies</th><th scope=col>Glucose</th><th scope=col>BloodPressure</th><th scope=col>SkinThickness</th><th scope=col>Insulin</th><th scope=col>BMI</th><th scope=col>DiabetesPedigreeFunction</th><th scope=col>Age</th><th scope=col>Outcome</th></tr></thead>\n",
       "<tbody>\n",
       "\t<tr><td>6    </td><td>148  </td><td>72   </td><td>35   </td><td>  0  </td><td>33.6 </td><td>0.627</td><td>50   </td><td>1    </td></tr>\n",
       "\t<tr><td>1    </td><td> 85  </td><td>66   </td><td>29   </td><td>  0  </td><td>26.6 </td><td>0.351</td><td>31   </td><td>0    </td></tr>\n",
       "\t<tr><td>8    </td><td>183  </td><td>64   </td><td> 0   </td><td>  0  </td><td>23.3 </td><td>0.672</td><td>32   </td><td>1    </td></tr>\n",
       "\t<tr><td>1    </td><td> 89  </td><td>66   </td><td>23   </td><td> 94  </td><td>28.1 </td><td>0.167</td><td>21   </td><td>0    </td></tr>\n",
       "\t<tr><td>0    </td><td>137  </td><td>40   </td><td>35   </td><td>168  </td><td>43.1 </td><td>2.288</td><td>33   </td><td>1    </td></tr>\n",
       "\t<tr><td>5    </td><td>116  </td><td>74   </td><td> 0   </td><td>  0  </td><td>25.6 </td><td>0.201</td><td>30   </td><td>0    </td></tr>\n",
       "</tbody>\n",
       "</table>\n"
      ],
      "text/latex": [
       "\\begin{tabular}{r|lllllllll}\n",
       " Pregnancies & Glucose & BloodPressure & SkinThickness & Insulin & BMI & DiabetesPedigreeFunction & Age & Outcome\\\\\n",
       "\\hline\n",
       "\t 6     & 148   & 72    & 35    &   0   & 33.6  & 0.627 & 50    & 1    \\\\\n",
       "\t 1     &  85   & 66    & 29    &   0   & 26.6  & 0.351 & 31    & 0    \\\\\n",
       "\t 8     & 183   & 64    &  0    &   0   & 23.3  & 0.672 & 32    & 1    \\\\\n",
       "\t 1     &  89   & 66    & 23    &  94   & 28.1  & 0.167 & 21    & 0    \\\\\n",
       "\t 0     & 137   & 40    & 35    & 168   & 43.1  & 2.288 & 33    & 1    \\\\\n",
       "\t 5     & 116   & 74    &  0    &   0   & 25.6  & 0.201 & 30    & 0    \\\\\n",
       "\\end{tabular}\n"
      ],
      "text/markdown": [
       "\n",
       "| Pregnancies | Glucose | BloodPressure | SkinThickness | Insulin | BMI | DiabetesPedigreeFunction | Age | Outcome |\n",
       "|---|---|---|---|---|---|---|---|---|\n",
       "| 6     | 148   | 72    | 35    |   0   | 33.6  | 0.627 | 50    | 1     |\n",
       "| 1     |  85   | 66    | 29    |   0   | 26.6  | 0.351 | 31    | 0     |\n",
       "| 8     | 183   | 64    |  0    |   0   | 23.3  | 0.672 | 32    | 1     |\n",
       "| 1     |  89   | 66    | 23    |  94   | 28.1  | 0.167 | 21    | 0     |\n",
       "| 0     | 137   | 40    | 35    | 168   | 43.1  | 2.288 | 33    | 1     |\n",
       "| 5     | 116   | 74    |  0    |   0   | 25.6  | 0.201 | 30    | 0     |\n",
       "\n"
      ],
      "text/plain": [
       "  Pregnancies Glucose BloodPressure SkinThickness Insulin BMI \n",
       "1 6           148     72            35              0     33.6\n",
       "2 1            85     66            29              0     26.6\n",
       "3 8           183     64             0              0     23.3\n",
       "4 1            89     66            23             94     28.1\n",
       "5 0           137     40            35            168     43.1\n",
       "6 5           116     74             0              0     25.6\n",
       "  DiabetesPedigreeFunction Age Outcome\n",
       "1 0.627                    50  1      \n",
       "2 0.351                    31  0      \n",
       "3 0.672                    32  1      \n",
       "4 0.167                    21  0      \n",
       "5 2.288                    33  1      \n",
       "6 0.201                    30  0      "
      ]
     },
     "metadata": {},
     "output_type": "display_data"
    }
   ],
   "source": [
    "head(df)"
   ]
  },
  {
   "cell_type": "code",
   "execution_count": 4,
   "metadata": {},
   "outputs": [
    {
     "name": "stdout",
     "output_type": "stream",
     "text": [
      "'data.frame':\t768 obs. of  9 variables:\n",
      " $ Pregnancies             : int  6 1 8 1 0 5 3 10 2 8 ...\n",
      " $ Glucose                 : int  148 85 183 89 137 116 78 115 197 125 ...\n",
      " $ BloodPressure           : int  72 66 64 66 40 74 50 0 70 96 ...\n",
      " $ SkinThickness           : int  35 29 0 23 35 0 32 0 45 0 ...\n",
      " $ Insulin                 : int  0 0 0 94 168 0 88 0 543 0 ...\n",
      " $ BMI                     : num  33.6 26.6 23.3 28.1 43.1 25.6 31 35.3 30.5 0 ...\n",
      " $ DiabetesPedigreeFunction: num  0.627 0.351 0.672 0.167 2.288 ...\n",
      " $ Age                     : int  50 31 32 21 33 30 26 29 53 54 ...\n",
      " $ Outcome                 : int  1 0 1 0 1 0 1 0 1 1 ...\n"
     ]
    }
   ],
   "source": [
    "str(df)"
   ]
  },
  {
   "cell_type": "code",
   "execution_count": 5,
   "metadata": {},
   "outputs": [
    {
     "data": {
      "text/html": [
       "<ol class=list-inline>\n",
       "\t<li>768</li>\n",
       "\t<li>9</li>\n",
       "</ol>\n"
      ],
      "text/latex": [
       "\\begin{enumerate*}\n",
       "\\item 768\n",
       "\\item 9\n",
       "\\end{enumerate*}\n"
      ],
      "text/markdown": [
       "1. 768\n",
       "2. 9\n",
       "\n",
       "\n"
      ],
      "text/plain": [
       "[1] 768   9"
      ]
     },
     "metadata": {},
     "output_type": "display_data"
    }
   ],
   "source": [
    "dim(df)"
   ]
  },
  {
   "cell_type": "markdown",
   "metadata": {},
   "source": [
    "# Exploratory Data Analysis and Feature Selection"
   ]
  },
  {
   "cell_type": "markdown",
   "metadata": {},
   "source": [
    "### Check missing values "
   ]
  },
  {
   "cell_type": "code",
   "execution_count": 6,
   "metadata": {},
   "outputs": [
    {
     "name": "stdout",
     "output_type": "stream",
     "text": [
      "Number of Missing values : 0 \n"
     ]
    }
   ],
   "source": [
    "cat(\"Number of Missing values :\",sum(is.na(df)),\"\\n\")"
   ]
  },
  {
   "cell_type": "markdown",
   "metadata": {},
   "source": [
    "### Statistical Summary"
   ]
  },
  {
   "cell_type": "code",
   "execution_count": 7,
   "metadata": {},
   "outputs": [
    {
     "data": {
      "text/plain": [
       "  Pregnancies        Glucose      BloodPressure    SkinThickness  \n",
       " Min.   : 0.000   Min.   :  0.0   Min.   :  0.00   Min.   : 0.00  \n",
       " 1st Qu.: 1.000   1st Qu.: 99.0   1st Qu.: 62.00   1st Qu.: 0.00  \n",
       " Median : 3.000   Median :117.0   Median : 72.00   Median :23.00  \n",
       " Mean   : 3.845   Mean   :120.9   Mean   : 69.11   Mean   :20.54  \n",
       " 3rd Qu.: 6.000   3rd Qu.:140.2   3rd Qu.: 80.00   3rd Qu.:32.00  \n",
       " Max.   :17.000   Max.   :199.0   Max.   :122.00   Max.   :99.00  \n",
       "    Insulin           BMI        DiabetesPedigreeFunction      Age       \n",
       " Min.   :  0.0   Min.   : 0.00   Min.   :0.0780           Min.   :21.00  \n",
       " 1st Qu.:  0.0   1st Qu.:27.30   1st Qu.:0.2437           1st Qu.:24.00  \n",
       " Median : 30.5   Median :32.00   Median :0.3725           Median :29.00  \n",
       " Mean   : 79.8   Mean   :31.99   Mean   :0.4719           Mean   :33.24  \n",
       " 3rd Qu.:127.2   3rd Qu.:36.60   3rd Qu.:0.6262           3rd Qu.:41.00  \n",
       " Max.   :846.0   Max.   :67.10   Max.   :2.4200           Max.   :81.00  \n",
       "    Outcome     \n",
       " Min.   :0.000  \n",
       " 1st Qu.:0.000  \n",
       " Median :0.000  \n",
       " Mean   :0.349  \n",
       " 3rd Qu.:1.000  \n",
       " Max.   :1.000  "
      ]
     },
     "metadata": {},
     "output_type": "display_data"
    }
   ],
   "source": [
    "summary(df)"
   ]
  },
  {
   "cell_type": "code",
   "execution_count": 8,
   "metadata": {},
   "outputs": [],
   "source": [
    "df$Outcome <- factor(df$Outcome)"
   ]
  },
  {
   "cell_type": "markdown",
   "metadata": {},
   "source": [
    "### Histogram of Numeric Values"
   ]
  },
  {
   "cell_type": "code",
   "execution_count": 13,
   "metadata": {},
   "outputs": [
    {
     "name": "stderr",
     "output_type": "stream",
     "text": [
      "`stat_bin()` using `bins = 30`. Pick better value with `binwidth`.\n"
     ]
    },
    {
     "data": {
      "image/png": "[encoded data removed]",
      "text/plain": [
       "plot without title"
      ]
     },
     "metadata": {},
     "output_type": "display_data"
    }
   ],
   "source": [
    "p1 <- ggplot(df, aes(x=Pregnancies)) + ggtitle(\"Number of times pregnant\") +\n",
    "  geom_histogram(aes(y = 100*(..count..)/sum(..count..)), binwidth = 1, colour=\"black\", fill=\"white\") + ylab(\"Percentage\")\n",
    "p2 <- ggplot(df, aes(x=Glucose)) + ggtitle(\"Glucose\") +\n",
    "  geom_histogram(aes(y = 100*(..count..)/sum(..count..)), binwidth = 5, colour=\"black\", fill=\"white\") + ylab(\"Percentage\")\n",
    "p3 <- ggplot(df, aes(x=BloodPressure)) + ggtitle(\"Blood Pressure\") +\n",
    "  geom_histogram(aes(y = 100*(..count..)/sum(..count..)), binwidth = 2, colour=\"black\", fill=\"white\") + ylab(\"Percentage\")\n",
    "p4 <- ggplot(df, aes(x=SkinThickness)) + ggtitle(\"Skin Thickness\") +\n",
    "  geom_histogram(aes(y = 100*(..count..)/sum(..count..)), binwidth = 2, colour=\"black\", fill=\"white\") + ylab(\"Percentage\")\n",
    "p5 <- ggplot(df, aes(x=Insulin)) + ggtitle(\"Insulin\") +\n",
    "  geom_histogram(aes(y = 100*(..count..)/sum(..count..)), binwidth = 20, colour=\"black\", fill=\"white\") + ylab(\"Percentage\")\n",
    "p6 <- ggplot(df, aes(x=BMI)) + ggtitle(\"Body Mass Index\") +\n",
    "  geom_histogram(aes(y = 100*(..count..)/sum(..count..)), binwidth = 1, colour=\"black\", fill=\"white\") + ylab(\"Percentage\")\n",
    "p7 <- ggplot(df, aes(x=DiabetesPedigreeFunction)) + ggtitle(\"Diabetes Pedigree Function\") +\n",
    "  geom_histogram(aes(y = 100*(..count..)/sum(..count..)), colour=\"black\", fill=\"white\") + ylab(\"Percentage\")\n",
    "p8 <- ggplot(df, aes(x=Age)) + ggtitle(\"Age\") +\n",
    "  geom_histogram(aes(y = 100*(..count..)/sum(..count..)), binwidth=1, colour=\"black\", fill=\"white\") + ylab(\"Percentage\")\n",
    "grid.arrange(p1, p2, p3, p4, p5, p6, p7, p8, ncol=2)"
   ]
  },
  {
   "cell_type": "markdown",
   "metadata": {},
   "source": [
    "# Correlation Between Numeric Varibales"
   ]
  },
  {
   "cell_type": "code",
   "execution_count": 15,
   "metadata": {},
   "outputs": [
    {
     "data": {
      "image/png": "[encoded data removed]",
      "text/plain": [
       "Plot with title \"\n",
       "\n",
       " Correlation Plot for Numerical Values\""
      ]
     },
     "metadata": {},
     "output_type": "display_data"
    }
   ],
   "source": [
    "numeric.var <- sapply(df,is.numeric)\n",
    "corr.matrix <- cor(df[,numeric.var])\n",
    "corrplot(corr.matrix,main=\"\\n\\n Correlation Plot for Numerical Values\",order=\"hclust\",tl.col=\"black\",tl.srt=45,tl.cex=0.5,cl.cex=0.5)"
   ]
  },
  {
   "cell_type": "markdown",
   "metadata": {},
   "source": [
    "The numeric variabls are almost not correlated."
   ]
  },
  {
   "cell_type": "markdown",
   "metadata": {},
   "source": [
    "### Correlation bewteen numeric variables and outcome. "
   ]
  },
  {
   "cell_type": "code",
   "execution_count": 16,
   "metadata": {},
   "outputs": [],
   "source": [
    "attach(df)"
   ]
  },
  {
   "cell_type": "code",
   "execution_count": 18,
   "metadata": {},
   "outputs": [
    {
     "data": {
      "image/png": "[encoded data removed]",
      "text/plain": [
       "Plot with title \"Age vs Diabetes\""
      ]
     },
     "metadata": {},
     "output_type": "display_data"
    }
   ],
   "source": [
    "par(mfrow=c(2,4))\n",
    "boxplot(Pregnancies~Outcome,main=\"No of Pregnancies vs Diabetes\",\n",
    "        xlab=\"Outcome\",ylab=\"Pregnancies\")\n",
    "boxplot(Glucose~Outcome,main=\"Glucose vs Diabetes\",xlab=\"OutCome\",\n",
    "        ylab=\"Glucose\")\n",
    "boxplot(BloodPressure~Outcome, main=\"Blood Pressure vs Diabetes\",\n",
    "        xlab=\"OutCome\",ylab=\"Blood Pressure\")\n",
    "boxplot(SkinThickness~Outcome, main=\"Skin Thickness vs. Diabetes\", \n",
    "        xlab=\"Outcome\", ylab=\"Skin Thickness\")\n",
    "boxplot(Insulin~Outcome, main=\"Insulin vs. Diabetes\", \n",
    "        xlab=\"Outcome\", ylab=\"Insulin\")\n",
    "boxplot(BMI~Outcome, main=\"BMI vs. Diabetes\", \n",
    "        xlab=\"Outcome\", ylab=\"BMI\")\n",
    "boxplot(DiabetesPedigreeFunction~Outcome,main=\"Diabetes Pedigree Function vs Diabetes\",xlab=\"Outcome\",ylab=\"DiabetesPedigreeFunction\")\n",
    "boxplot(Age~Outcome,main=\"Age vs Diabetes\",\n",
    "        xlab=\"Outcome\",ylab=\"Age\")"
   ]
  },
  {
   "cell_type": "markdown",
   "metadata": {},
   "source": [
    "Blood pressure and skin thickness show little variation with diabetes, they will be excluded from the model. Other variables show more or less correlation with diabetes, so will be kept."
   ]
  },
  {
   "cell_type": "markdown",
   "metadata": {},
   "source": [
    "# Logistic Regression "
   ]
  },
  {
   "cell_type": "code",
   "execution_count": 19,
   "metadata": {},
   "outputs": [],
   "source": [
    "df$BloodPressure <- NULL\n",
    "df$SkinThickness <- NULL"
   ]
  },
  {
   "cell_type": "code",
   "execution_count": 20,
   "metadata": {},
   "outputs": [
    {
     "data": {
      "text/html": [
       "<table>\n",
       "<thead><tr><th scope=col>Pregnancies</th><th scope=col>Glucose</th><th scope=col>Insulin</th><th scope=col>BMI</th><th scope=col>DiabetesPedigreeFunction</th><th scope=col>Age</th><th scope=col>Outcome</th></tr></thead>\n",
       "<tbody>\n",
       "\t<tr><td>6    </td><td>148  </td><td>  0  </td><td>33.6 </td><td>0.627</td><td>50   </td><td>1    </td></tr>\n",
       "\t<tr><td>1    </td><td> 85  </td><td>  0  </td><td>26.6 </td><td>0.351</td><td>31   </td><td>0    </td></tr>\n",
       "\t<tr><td>8    </td><td>183  </td><td>  0  </td><td>23.3 </td><td>0.672</td><td>32   </td><td>1    </td></tr>\n",
       "\t<tr><td>1    </td><td> 89  </td><td> 94  </td><td>28.1 </td><td>0.167</td><td>21   </td><td>0    </td></tr>\n",
       "\t<tr><td>0    </td><td>137  </td><td>168  </td><td>43.1 </td><td>2.288</td><td>33   </td><td>1    </td></tr>\n",
       "\t<tr><td>5    </td><td>116  </td><td>  0  </td><td>25.6 </td><td>0.201</td><td>30   </td><td>0    </td></tr>\n",
       "</tbody>\n",
       "</table>\n"
      ],
      "text/latex": [
       "\\begin{tabular}{r|lllllll}\n",
       " Pregnancies & Glucose & Insulin & BMI & DiabetesPedigreeFunction & Age & Outcome\\\\\n",
       "\\hline\n",
       "\t 6     & 148   &   0   & 33.6  & 0.627 & 50    & 1    \\\\\n",
       "\t 1     &  85   &   0   & 26.6  & 0.351 & 31    & 0    \\\\\n",
       "\t 8     & 183   &   0   & 23.3  & 0.672 & 32    & 1    \\\\\n",
       "\t 1     &  89   &  94   & 28.1  & 0.167 & 21    & 0    \\\\\n",
       "\t 0     & 137   & 168   & 43.1  & 2.288 & 33    & 1    \\\\\n",
       "\t 5     & 116   &   0   & 25.6  & 0.201 & 30    & 0    \\\\\n",
       "\\end{tabular}\n"
      ],
      "text/markdown": [
       "\n",
       "| Pregnancies | Glucose | Insulin | BMI | DiabetesPedigreeFunction | Age | Outcome |\n",
       "|---|---|---|---|---|---|---|\n",
       "| 6     | 148   |   0   | 33.6  | 0.627 | 50    | 1     |\n",
       "| 1     |  85   |   0   | 26.6  | 0.351 | 31    | 0     |\n",
       "| 8     | 183   |   0   | 23.3  | 0.672 | 32    | 1     |\n",
       "| 1     |  89   |  94   | 28.1  | 0.167 | 21    | 0     |\n",
       "| 0     | 137   | 168   | 43.1  | 2.288 | 33    | 1     |\n",
       "| 5     | 116   |   0   | 25.6  | 0.201 | 30    | 0     |\n",
       "\n"
      ],
      "text/plain": [
       "  Pregnancies Glucose Insulin BMI  DiabetesPedigreeFunction Age Outcome\n",
       "1 6           148       0     33.6 0.627                    50  1      \n",
       "2 1            85       0     26.6 0.351                    31  0      \n",
       "3 8           183       0     23.3 0.672                    32  1      \n",
       "4 1            89      94     28.1 0.167                    21  0      \n",
       "5 0           137     168     43.1 2.288                    33  1      \n",
       "6 5           116       0     25.6 0.201                    30  0      "
      ]
     },
     "metadata": {},
     "output_type": "display_data"
    }
   ],
   "source": [
    "head(df)"
   ]
  },
  {
   "cell_type": "code",
   "execution_count": 21,
   "metadata": {},
   "outputs": [],
   "source": [
    "train <- df[1:540,]\n",
    "test <- df[541:768,]"
   ]
  },
  {
   "cell_type": "code",
   "execution_count": 22,
   "metadata": {},
   "outputs": [],
   "source": [
    "model <- glm(Outcome ~.,family = binomial(link='logit'),data = train)"
   ]
  },
  {
   "cell_type": "code",
   "execution_count": 23,
   "metadata": {},
   "outputs": [
    {
     "data": {
      "text/plain": [
       "\n",
       "Call:\n",
       "glm(formula = Outcome ~ ., family = binomial(link = \"logit\"), \n",
       "    data = train)\n",
       "\n",
       "Deviance Residuals: \n",
       "    Min       1Q   Median       3Q      Max  \n",
       "-2.4366  -0.7741  -0.4312   0.8021   2.7310  \n",
       "\n",
       "Coefficients:\n",
       "                           Estimate Std. Error z value Pr(>|z|)    \n",
       "(Intercept)              -8.3461752  0.8157916 -10.231  < 2e-16 ***\n",
       "Pregnancies               0.1246856  0.0373214   3.341 0.000835 ***\n",
       "Glucose                   0.0315778  0.0042497   7.431 1.08e-13 ***\n",
       "Insulin                  -0.0013400  0.0009441  -1.419 0.155781    \n",
       "BMI                       0.0881521  0.0164090   5.372 7.78e-08 ***\n",
       "DiabetesPedigreeFunction  0.9642132  0.3430094   2.811 0.004938 ** \n",
       "Age                       0.0018904  0.0107225   0.176 0.860053    \n",
       "---\n",
       "Signif. codes:  0 '***' 0.001 '**' 0.01 '*' 0.05 '.' 0.1 ' ' 1\n",
       "\n",
       "(Dispersion parameter for binomial family taken to be 1)\n",
       "\n",
       "    Null deviance: 700.47  on 539  degrees of freedom\n",
       "Residual deviance: 526.56  on 533  degrees of freedom\n",
       "AIC: 540.56\n",
       "\n",
       "Number of Fisher Scoring iterations: 5\n"
      ]
     },
     "metadata": {},
     "output_type": "display_data"
    }
   ],
   "source": [
    "summary(model)"
   ]
  },
  {
   "cell_type": "code",
   "execution_count": 24,
   "metadata": {},
   "outputs": [
    {
     "data": {
      "text/html": [
       "<table>\n",
       "<thead><tr><th></th><th scope=col>Df</th><th scope=col>Deviance</th><th scope=col>Resid. Df</th><th scope=col>Resid. Dev</th><th scope=col>Pr(&gt;Chi)</th></tr></thead>\n",
       "<tbody>\n",
       "\t<tr><th scope=row>NULL</th><td>NA          </td><td>          NA</td><td>539         </td><td>700.4723    </td><td>          NA</td></tr>\n",
       "\t<tr><th scope=row>Pregnancies</th><td> 1          </td><td> 26.31439847</td><td>538         </td><td>674.1579    </td><td>2.901177e-07</td></tr>\n",
       "\t<tr><th scope=row>Glucose</th><td> 1          </td><td>102.95966029</td><td>537         </td><td>571.1983    </td><td>3.420425e-24</td></tr>\n",
       "\t<tr><th scope=row>Insulin</th><td> 1          </td><td>  0.06201367</td><td>536         </td><td>571.1362    </td><td>8.033411e-01</td></tr>\n",
       "\t<tr><th scope=row>BMI</th><td> 1          </td><td> 36.13545562</td><td>535         </td><td>535.0008    </td><td>1.840672e-09</td></tr>\n",
       "\t<tr><th scope=row>DiabetesPedigreeFunction</th><td> 1          </td><td>  8.41424283</td><td>534         </td><td>526.5865    </td><td>3.722928e-03</td></tr>\n",
       "\t<tr><th scope=row>Age</th><td> 1          </td><td>  0.03101786</td><td>533         </td><td>526.5555    </td><td>8.602005e-01</td></tr>\n",
       "</tbody>\n",
       "</table>\n"
      ],
      "text/latex": [
       "\\begin{tabular}{r|lllll}\n",
       "  & Df & Deviance & Resid. Df & Resid. Dev & Pr(>Chi)\\\\\n",
       "\\hline\n",
       "\tNULL & NA           &           NA & 539          & 700.4723     &           NA\\\\\n",
       "\tPregnancies &  1           &  26.31439847 & 538          & 674.1579     & 2.901177e-07\\\\\n",
       "\tGlucose &  1           & 102.95966029 & 537          & 571.1983     & 3.420425e-24\\\\\n",
       "\tInsulin &  1           &   0.06201367 & 536          & 571.1362     & 8.033411e-01\\\\\n",
       "\tBMI &  1           &  36.13545562 & 535          & 535.0008     & 1.840672e-09\\\\\n",
       "\tDiabetesPedigreeFunction &  1           &   8.41424283 & 534          & 526.5865     & 3.722928e-03\\\\\n",
       "\tAge &  1           &   0.03101786 & 533          & 526.5555     & 8.602005e-01\\\\\n",
       "\\end{tabular}\n"
      ],
      "text/markdown": [
       "\n",
       "| <!--/--> | Df | Deviance | Resid. Df | Resid. Dev | Pr(>Chi) |\n",
       "|---|---|---|---|---|---|\n",
       "| NULL | NA           |           NA | 539          | 700.4723     |           NA |\n",
       "| Pregnancies |  1           |  26.31439847 | 538          | 674.1579     | 2.901177e-07 |\n",
       "| Glucose |  1           | 102.95966029 | 537          | 571.1983     | 3.420425e-24 |\n",
       "| Insulin |  1           |   0.06201367 | 536          | 571.1362     | 8.033411e-01 |\n",
       "| BMI |  1           |  36.13545562 | 535          | 535.0008     | 1.840672e-09 |\n",
       "| DiabetesPedigreeFunction |  1           |   8.41424283 | 534          | 526.5865     | 3.722928e-03 |\n",
       "| Age |  1           |   0.03101786 | 533          | 526.5555     | 8.602005e-01 |\n",
       "\n"
      ],
      "text/plain": [
       "                         Df Deviance     Resid. Df Resid. Dev Pr(>Chi)    \n",
       "NULL                     NA           NA 539       700.4723             NA\n",
       "Pregnancies               1  26.31439847 538       674.1579   2.901177e-07\n",
       "Glucose                   1 102.95966029 537       571.1983   3.420425e-24\n",
       "Insulin                   1   0.06201367 536       571.1362   8.033411e-01\n",
       "BMI                       1  36.13545562 535       535.0008   1.840672e-09\n",
       "DiabetesPedigreeFunction  1   8.41424283 534       526.5865   3.722928e-03\n",
       "Age                       1   0.03101786 533       526.5555   8.602005e-01"
      ]
     },
     "metadata": {},
     "output_type": "display_data"
    }
   ],
   "source": [
    "anova(model,test=\"Chisq\")"
   ]
  },
  {
   "cell_type": "markdown",
   "metadata": {},
   "source": [
    "# Cross Validation"
   ]
  },
  {
   "cell_type": "code",
   "execution_count": 25,
   "metadata": {},
   "outputs": [
    {
     "name": "stdout",
     "output_type": "stream",
     "text": [
      "[1] \"Accuracy 0.789473684210526\"\n"
     ]
    }
   ],
   "source": [
    "fitted.results <- predict(model,newdata = test,type='response')\n",
    "fitted.results <- ifelse(fitted.results >0.5,1,0)\n",
    "misclassifier <- mean(fitted.results != test$Outcome)\n",
    "print(paste('Accuracy',1-misclassifier))"
   ]
  },
  {
   "cell_type": "markdown",
   "metadata": {},
   "source": [
    "# Decision Tree"
   ]
  },
  {
   "cell_type": "code",
   "execution_count": 26,
   "metadata": {},
   "outputs": [],
   "source": [
    "library(rpart)"
   ]
  },
  {
   "cell_type": "code",
   "execution_count": 27,
   "metadata": {},
   "outputs": [],
   "source": [
    "model2 <- rpart(Outcome ~ Pregnancies + Glucose+ BMI + DiabetesPedigreeFunction,data = train, method = \"class\")"
   ]
  },
  {
   "cell_type": "code",
   "execution_count": 28,
   "metadata": {},
   "outputs": [
    {
     "data": {
      "image/png": "[encoded data removed]",
      "text/plain": [
       "Plot with title \"Classification Tree for Diabetes\""
      ]
     },
     "metadata": {},
     "output_type": "display_data"
    }
   ],
   "source": [
    "plot(model2,uniform=TRUE,\n",
    "    main=\"Classification Tree for Diabetes\")\n",
    "text(model2,use.n=TRUE,all=TRUE,cex=.8)"
   ]
  },
  {
   "cell_type": "code",
   "execution_count": 29,
   "metadata": {},
   "outputs": [
    {
     "data": {
      "text/plain": [
       "         \n",
       "tree_pred   0   1\n",
       "        0 121  29\n",
       "        1  29  49"
      ]
     },
     "metadata": {},
     "output_type": "display_data"
    },
    {
     "data": {
      "text/html": [
       "0.745614035087719"
      ],
      "text/latex": [
       "0.745614035087719"
      ],
      "text/markdown": [
       "0.745614035087719"
      ],
      "text/plain": [
       "[1] 0.745614"
      ]
     },
     "metadata": {},
     "output_type": "display_data"
    }
   ],
   "source": [
    "tree_pred <- predict(model2,test,type='class')\n",
    "table(tree_pred,test$Outcome)\n",
    "mean(tree_pred ==test$Outcome)"
   ]
  },
  {
   "cell_type": "code",
   "execution_count": null,
   "metadata": {},
   "outputs": [],
   "source": []
  }
 ],
 "metadata": {
  "kernelspec": {
   "display_name": "R",
   "language": "R",
   "name": "ir"
  },
  "language_info": {
   "codemirror_mode": "r",
   "file_extension": ".r",
   "mimetype": "text/x-r-source",
   "name": "R",
   "pygments_lexer": "r",
   "version": "3.6.1"
  }
 },
 "nbformat": 4,
 "nbformat_minor": 2
}
